{
 "cells": [
  {
   "cell_type": "code",
   "execution_count": 30,
   "metadata": {
    "collapsed": false
   },
   "outputs": [],
   "source": [
    "options(warn=-1)\n",
    "\n",
    "library(tseriesChaos)\n",
    "library(deSolve)\n",
    "library(pracma)"
   ]
  },
  {
   "cell_type": "markdown",
   "metadata": {},
   "source": [
    "## Transient Logistic Map\n",
    "\n",
    "In this example, we produce the transient logistic map, in which the logistic map $x_{t+1} = r \\cdot x_t (1 - x_t)$ is iterated while the parameter of $r$ is changed on each iteration."
   ]
  },
  {
   "cell_type": "code",
   "execution_count": 2,
   "metadata": {
    "collapsed": true
   },
   "outputs": [],
   "source": [
    "logistic_map <- function(t, input, parms) {\n",
    "    x <- input[1]\n",
    "    r <- parms[1]\n",
    "    dx <- r * x * (1 - x)\n",
    "    \n",
    "    list(c(dx))\n",
    "}"
   ]
  },
  {
   "cell_type": "code",
   "execution_count": 3,
   "metadata": {
    "collapsed": true
   },
   "outputs": [],
   "source": [
    "transient_map_iterator <- function(syst, start.time, end.time, dt,\n",
    "                                   initial.condition, parms=NULL, parms.mod=NULL, runge.kutta=F) {\n",
    "    times <- seq(start.time, end.time, by=dt)\n",
    "    x <- initial.condition\n",
    "    \n",
    "    ret <- NULL\n",
    "    for (t in times) {\n",
    "        ret <- rbind(ret, x)\n",
    "        x <- syst(t, x, parms)[[1]] * dt\n",
    "        parms <- parms + parms.mod\n",
    "    }\n",
    "    \n",
    "    ret\n",
    "}"
   ]
  },
  {
   "cell_type": "code",
   "execution_count": 4,
   "metadata": {
    "collapsed": true
   },
   "outputs": [],
   "source": [
    "transient_logistic_map <- function(N, initial.condition=c(0.6),\n",
    "                                   parms.initial=c(2.8), parms.end=c(4.0), dt=1) {\n",
    "    parms.mod <- (parms.end - parms.initial)/N\n",
    "    \n",
    "    transient_map_iterator(logistic_map, start.time=1, end.time=N, dt=1, initial.condition,\n",
    "                           parms.initial, parms.mod, runge.kutta=F)\n",
    "}"
   ]
  },
  {
   "cell_type": "markdown",
   "metadata": {},
   "source": [
    "## Multidimensional Fourier Transform (MDFT) Algorithm\n",
    "\n",
    "Here we define the functions for the MDFT algorithm."
   ]
  },
  {
   "cell_type": "code",
   "execution_count": 5,
   "metadata": {
    "collapsed": true
   },
   "outputs": [],
   "source": [
    "mdft_quantize <- function(embedded.data, nbins) {\n",
    "    discretized.data <- embedded.data\n",
    "    \n",
    "    for (i in 1:ncol(embedded.data)) {\n",
    "        min.data <- min(embedded.data[,i], na.rm=T)\n",
    "        max.data <- max(embedded.data[,i], na.rm=T)\n",
    "        \n",
    "        discretized.data[,i] <- findInterval(embedded.data[,i], seq(from=min.data,\n",
    "                                                                    to=max.data,\n",
    "                                                                    by=((max.data - min.data)/(nbins - i))))\n",
    "    }\n",
    "    \n",
    "    grid <- list()\n",
    "    \n",
    "    for (i in 1:nrow(discretized.data)) {\n",
    "        key <- strcat(as.character(discretized.data[i,]), collapse=\"#\")\n",
    "        \n",
    "        if (is.null(grid[[key]])) {\n",
    "            grid[[key]] <- 1\n",
    "        } else {\n",
    "            grid[[key]] <- grid[[key]] + 1\n",
    "        }\n",
    "    }\n",
    "    \n",
    "    return(grid)\n",
    "}"
   ]
  },
  {
   "cell_type": "code",
   "execution_count": 6,
   "metadata": {
    "collapsed": true
   },
   "outputs": [],
   "source": [
    "mdft_assimilate_to_grid <- function(grid, key) {\n",
    "    key <- strcat(as.character(key), collapse=\"#\")\n",
    "    if (is.null(grid[[key]])) {\n",
    "        return(0)\n",
    "    } else {\n",
    "        return(grid[[key]])\n",
    "    }\n",
    "}"
   ]
  },
  {
   "cell_type": "code",
   "execution_count": 7,
   "metadata": {
    "collapsed": true
   },
   "outputs": [],
   "source": [
    "mdft <- function(grid, coordinates) {\n",
    "    aux.grid <- grid\n",
    "    \n",
    "    for (i in 1:ncol(coordinates)) {\n",
    "        for (dim in min(coordinates[,i]):max(coordinates[,i])) {\n",
    "            indexes <- which(coordinates[,i] == dim)\n",
    "            series <- c()\n",
    "            \n",
    "            for (index in indexes) {\n",
    "                key <- strcat(as.character(coordinates[index,]), collapse=\"#\")\n",
    "                qtt <- mdft_assimilate_to_grid(aux.grid, key)\n",
    "                series <- c(series, qtt)\n",
    "            }\n",
    "            \n",
    "            ret <- fft(series)\n",
    "            \n",
    "            for (j in 1:length(indexes)) {\n",
    "                key <- strcat(as.character(coordinates[indexes[j],]), collapse=\"#\")\n",
    "                if (is.null(aux.grid[[key]])) {\n",
    "                    aux.grid[[key]] <- ret[j]\n",
    "                } else {\n",
    "                    aux.grid[[key]] <- aux.grid[[key]] + ret[j]\n",
    "                }\n",
    "            }\n",
    "        }\n",
    "    }\n",
    "    \n",
    "    return(aux.grid)\n",
    "}"
   ]
  },
  {
   "cell_type": "code",
   "execution_count": 8,
   "metadata": {
    "collapsed": true
   },
   "outputs": [],
   "source": [
    "mdft_process <- function(data, m, d, nbins) {\n",
    "    coordinates <- expand.grid(replicate(m, 1:nbins, simplify=F))\n",
    "    \n",
    "    embedded.data <- embedd(data, m, d)\n",
    "    \n",
    "    grid <- mdft_quantize(embedded.data, nbins)\n",
    "    coefs <- mdft(grid, coordinates)\n",
    "    \n",
    "    as.complex(coefs)\n",
    "}"
   ]
  },
  {
   "cell_type": "code",
   "execution_count": 9,
   "metadata": {
    "collapsed": true
   },
   "outputs": [],
   "source": [
    "mdft_compare_models <- function(A, B) {\n",
    "    mag_A <- NULL\n",
    "    mag_B <- NULL\n",
    "    \n",
    "    for (i in 1:length(B)) {\n",
    "        mag_A <- cbind(mag_A, sqrt(Re(A[[i]])^2 + Im(A[[i]])^2))\n",
    "        mag_B <- cbind(mag_B, sqrt(Re(B[[i]])^2 + Im(B[[i]])^2))\n",
    "    }\n",
    "    \n",
    "    eig_A <- svd(mag_A)$d\n",
    "    eig_B <- svd(mag_B)$d\n",
    "    diff <- 0\n",
    "    value <- 0\n",
    "    prob <- c()\n",
    "    for (ev in 1:length(eig_A)) {\n",
    "        prob <- c(prob, abs(eig_A[ev] - eig_B[ev]) / max(c(eig_A[ev], eig_B[ev])))\n",
    "    }\n",
    "    \n",
    "    ret <- -sum(prob[prob > 0] * log2(prob[prob > 0]))\n",
    "    \n",
    "    return(ret)\n",
    "}"
   ]
  },
  {
   "cell_type": "markdown",
   "metadata": {},
   "source": [
    "## Executing a test"
   ]
  },
  {
   "cell_type": "code",
   "execution_count": 10,
   "metadata": {
    "collapsed": false
   },
   "outputs": [],
   "source": [
    "# Producing the data stream\n",
    "\n",
    "N <- 1.2e+5\n",
    "\n",
    "ds <- transient_logistic_map(N)"
   ]
  },
  {
   "cell_type": "code",
   "execution_count": 21,
   "metadata": {
    "collapsed": true
   },
   "outputs": [],
   "source": [
    "# Setting up the MDFT algorithm\n",
    "\n",
    "# window parameters\n",
    "window.length <- 800\n",
    "window.step <- 10\n",
    "window.index <- 1\n",
    "\n",
    "# embedding parameters\n",
    "m <- 2\n",
    "d <- 1\n",
    "\n",
    "# MDFT parameters\n",
    "nbins <- 13\n",
    "\n",
    "# stateful variables\n",
    "A <- NULL\n",
    "B <- NULL\n",
    "mdft_dif <- c()"
   ]
  },
  {
   "cell_type": "code",
   "execution_count": 22,
   "metadata": {
    "collapsed": false
   },
   "outputs": [],
   "source": [
    "# Sliding window and comparing consecutive models\n",
    "\n",
    "for (i in 1:length(seq(window.length, N, by=window.step))) {\n",
    "    \n",
    "    # slide window\n",
    "    window <- ds[window.index:(window.length + window.index - 1)]\n",
    "    window.index <- window.index + window.step\n",
    "    \n",
    "    # produce a model (based on MDFT)\n",
    "    model <- mdft_process(window, m=m, d=d, nbins=nbins)\n",
    "    \n",
    "    if (!is.null(A)) {\n",
    "        B <- A\n",
    "    }\n",
    "\n",
    "    A <- model\n",
    "\n",
    "    # compare consecutive models\n",
    "    if (!is.null(B)) {\n",
    "        dif <- mdft_compare_models(A, B)\n",
    "        mdft_dif <- c(mdft_dif, dif)\n",
    "    }\n",
    "}"
   ]
  },
  {
   "cell_type": "code",
   "execution_count": 38,
   "metadata": {
    "collapsed": false
   },
   "outputs": [
    {
     "data": {
      "image/png": "[encoded data removed]",
      "text/plain": [
       "plot without title"
      ]
     },
     "metadata": {},
     "output_type": "display_data"
    }
   ],
   "source": [
    "# Plotting the datastream and the MDFT comparison between consecutive models\n",
    "\n",
    "options(repr.plot.width=7, repr.plot.height=5)\n",
    "\n",
    "mdft_plot_dif <- c(rep(0, trunc(window.length / window.step)), mdft_dif)\n",
    "\n",
    "plot(ds, pch='.', xlab='Time', ylab='x')\n",
    "par(new=T, ann=F, xaxt='n', yaxt='n')\n",
    "ts.plot(mdft_plot_dif, col=2)"
   ]
  }
 ],
 "metadata": {
  "kernelspec": {
   "display_name": "R",
   "language": "R",
   "name": "ir"
  },
  "language_info": {
   "codemirror_mode": "r",
   "file_extension": ".r",
   "mimetype": "text/x-r-source",
   "name": "R",
   "pygments_lexer": "r",
   "version": "3.3.2"
  }
 },
 "nbformat": 4,
 "nbformat_minor": 2
}
